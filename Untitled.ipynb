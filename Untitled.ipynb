{
 "cells": [
  {
   "cell_type": "code",
   "execution_count": 1,
   "id": "adce83b3",
   "metadata": {},
   "outputs": [
    {
     "name": "stderr",
     "output_type": "stream",
     "text": [
      "/Users/lou/anaconda3/lib/python3.11/site-packages/pandas/core/arrays/masked.py:60: UserWarning: Pandas requires version '1.3.6' or newer of 'bottleneck' (version '1.3.5' currently installed).\n",
      "  from pandas.core import (\n"
     ]
    },
    {
     "ename": "ModuleNotFoundError",
     "evalue": "No module named 'snowflake_connection'",
     "output_type": "error",
     "traceback": [
      "\u001b[0;31m---------------------------------------------------------------------------\u001b[0m",
      "\u001b[0;31mModuleNotFoundError\u001b[0m                       Traceback (most recent call last)",
      "Cell \u001b[0;32mIn[1], line 3\u001b[0m\n\u001b[1;32m      1\u001b[0m \u001b[38;5;28;01mimport\u001b[39;00m \u001b[38;5;21;01mjson\u001b[39;00m\n\u001b[1;32m      2\u001b[0m \u001b[38;5;28;01mfrom\u001b[39;00m \u001b[38;5;21;01mstatsbombpy\u001b[39;00m \u001b[38;5;28;01mimport\u001b[39;00m sb\n\u001b[0;32m----> 3\u001b[0m \u001b[38;5;28;01mfrom\u001b[39;00m \u001b[38;5;21;01msnowflake_connection\u001b[39;00m \u001b[38;5;28;01mimport\u001b[39;00m get_connection\n\u001b[1;32m      5\u001b[0m \u001b[38;5;66;03m# Establish connection\u001b[39;00m\n\u001b[1;32m      6\u001b[0m conn \u001b[38;5;241m=\u001b[39m get_connection()\n",
      "\u001b[0;31mModuleNotFoundError\u001b[0m: No module named 'snowflake_connection'"
     ]
    }
   ],
   "source": [
    "import json\n",
    "from statsbombpy import sb\n",
    "from snowflake_connection import get_connection\n",
    "\n",
    "# Establish connection\n",
    "conn = get_connection()\n",
    "cur = conn.cursor()\n",
    "\n",
    "# Load events data\n",
    "events = sb.events(match_id=3788741)\n",
    "\n",
    "# Insert data into events table\n",
    "for index, row in events.iterrows():\n",
    "    event_data = json.dumps(row.to_dict())\n",
    "    cur.execute(\n",
    "        \"INSERT INTO statsbomb_schema.events (event_id, match_id, team_id, player_id, type, timestamp, minute, second, possession, location, related_events, event_data) VALUES (%s, %s, %s, %s, %s, %s, %s, %s, %s, ST_GeomFromText(%s), %s, %s)\",\n",
    "        (row['event_id'], row['match_id'], row['team_id'], row['player_id'], row['type'], row['timestamp'], row['minute'], row['second'],\n",
    "         row['possession'], f\"POINT({row['location'][0]} {row['location'][1]})\" if 'location' in row else None, json.dumps(row['related_events']), event_data)\n",
    "    )\n",
    "\n",
    "# Close the connection\n",
    "cur.close()\n",
    "conn.close()"
   ]
  },
  {
   "cell_type": "code",
   "execution_count": 3,
   "id": "28b9249f",
   "metadata": {},
   "outputs": [],
   "source": [
    "import os\n",
    "os.getenv('PYTHONPATH')"
   ]
  },
  {
   "cell_type": "code",
   "execution_count": 1,
   "id": "0afe46ee",
   "metadata": {},
   "outputs": [
    {
     "name": "stderr",
     "output_type": "stream",
     "text": [
      "/Users/lou/anaconda3/lib/python3.11/site-packages/pandas/core/arrays/masked.py:60: UserWarning: Pandas requires version '1.3.6' or newer of 'bottleneck' (version '1.3.5' currently installed).\n",
      "  from pandas.core import (\n"
     ]
    },
    {
     "ename": "ModuleNotFoundError",
     "evalue": "No module named 'snowflake_connection'",
     "output_type": "error",
     "traceback": [
      "\u001b[0;31m---------------------------------------------------------------------------\u001b[0m",
      "\u001b[0;31mModuleNotFoundError\u001b[0m                       Traceback (most recent call last)",
      "Cell \u001b[0;32mIn[1], line 3\u001b[0m\n\u001b[1;32m      1\u001b[0m \u001b[38;5;28;01mimport\u001b[39;00m \u001b[38;5;21;01mjson\u001b[39;00m\n\u001b[1;32m      2\u001b[0m \u001b[38;5;28;01mfrom\u001b[39;00m \u001b[38;5;21;01mstatsbombpy\u001b[39;00m \u001b[38;5;28;01mimport\u001b[39;00m sb\n\u001b[0;32m----> 3\u001b[0m \u001b[38;5;28;01mfrom\u001b[39;00m \u001b[38;5;21;01msnowflake_connection\u001b[39;00m \u001b[38;5;28;01mimport\u001b[39;00m get_connection\n\u001b[1;32m      4\u001b[0m \u001b[38;5;28;01mimport\u001b[39;00m \u001b[38;5;21;01mpandas\u001b[39;00m \u001b[38;5;28;01mas\u001b[39;00m \u001b[38;5;21;01mpd\u001b[39;00m\n\u001b[1;32m      6\u001b[0m \u001b[38;5;66;03m# Define expected columns based on the Snowflake table schema\u001b[39;00m\n",
      "\u001b[0;31mModuleNotFoundError\u001b[0m: No module named 'snowflake_connection'"
     ]
    }
   ],
   "source": [
    "import json\n",
    "from statsbombpy import sb\n",
    "from snowflake_connection import get_connection\n",
    "import pandas as pd\n",
    "\n",
    "# Define expected columns based on the Snowflake table schema\n",
    "expected_columns = [\n",
    "    'event_id', 'match_id', 'team_id', 'player_id', 'type', 'timestamp',\n",
    "    'minute', 'second', 'possession', 'location', 'related_events'\n",
    "]\n",
    "\n",
    "# Establish connection\n",
    "conn = get_connection()\n",
    "cur = conn.cursor()\n",
    "\n",
    "# Load events data\n",
    "events = sb.events(match_id=3788741)\n",
    "\n",
    "# Extract column names from the DataFrame\n",
    "dataframe_columns = events.columns.tolist()\n",
    "\n",
    "# Check if all expected columns are present in the DataFrame\n",
    "missing_columns = [col for col in expected_columns if col not in dataframe_columns]\n",
    "\n",
    "if missing_columns:\n",
    "    raise ValueError(f\"Missing columns in DataFrame: {missing_columns}\")\n",
    "\n",
    "# Check for any additional columns in the DataFrame not expected in the table schema\n",
    "additional_columns = [col for col in dataframe_columns if col not in expected_columns + ['event_id', 'event_data']]\n",
    "\n",
    "if additional_columns:\n",
    "    raise ValueError(f\"Additional unexpected columns in DataFrame: {additional_columns}\")\n",
    "\n",
    "# Insert data into events table\n",
    "for index, row in events.iterrows():\n",
    "    event_data = json.dumps(row.to_dict())\n",
    "    cur.execute(\n",
    "        \"\"\"\n",
    "        INSERT INTO statsbomb_schema.events (\n",
    "            event_id, match_id, team_id, player_id, type, timestamp, minute, second,\n",
    "            possession, location, related_events, event_data\n",
    "        ) VALUES (%s, %s, %s, %s, %s, %s, %s, %s, %s, ST_GeomFromText(%s), %s, %s)\n",
    "        \"\"\",\n",
    "        (\n",
    "            row['event_id'], row['match_id'], row['team_id'], row['player_id'], row['type'], row['timestamp'], row['minute'],\n",
    "            row['second'], row['possession'], f\"POINT({row['location'][0]} {row['location'][1]})\" if 'location' in row else None,\n",
    "            json.dumps(row['related_events']), event_data\n",
    "        )\n",
    "    )\n",
    "\n",
    "# Close the connection\n",
    "cur.close()\n",
    "conn.close()"
   ]
  }
 ],
 "metadata": {
  "kernelspec": {
   "display_name": "Python 3 (ipykernel)",
   "language": "python",
   "name": "python3"
  },
  "language_info": {
   "codemirror_mode": {
    "name": "ipython",
    "version": 3
   },
   "file_extension": ".py",
   "mimetype": "text/x-python",
   "name": "python",
   "nbconvert_exporter": "python",
   "pygments_lexer": "ipython3",
   "version": "3.11.4"
  }
 },
 "nbformat": 4,
 "nbformat_minor": 5
}
